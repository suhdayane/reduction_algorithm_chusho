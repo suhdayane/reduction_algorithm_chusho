{
 "cells": [
  {
   "cell_type": "code",
   "execution_count": 7,
   "metadata": {},
   "outputs": [],
   "source": [
    "import networkx as nx\n",
    "import matplotlib.pyplot as plt"
   ]
  },
  {
   "cell_type": "code",
   "execution_count": 24,
   "metadata": {},
   "outputs": [],
   "source": [
    "def get_output_node(G):\n",
    "    # Find the output node of the graph\n",
    "    output_nodes = [n for n in G.nodes() if G.out_degree(n) == 0]\n",
    "    assert len(output_nodes) == 1, \"The graph must have exactly one output node.\"\n",
    "    return output_nodes[0]\n",
    "\n",
    "def get_idominators(G, w):\n",
    "    output_node = get_output_node(G)\n",
    "        \n",
    "    # Initialize the list of inverse domains of w as the set of all nodes\n",
    "    # of the graph, except w\n",
    "    inv_dom = set(G.nodes()) - {w}\n",
    "    \n",
    "    # Check for selfloop, if there is w is inverse dominator of itself\n",
    "    if w in G.successors(w):\n",
    "        inv_dom = set(G.nodes())\n",
    "        \n",
    "        # If there is a selfloop and the node is the output node, w is its only inverse denominator\n",
    "        if w == output_node:\n",
    "            return list(w)\n",
    "        \n",
    "    # If w is the output node and there is no selfloop, w has no inverse denominators\n",
    "    if w == output_node:\n",
    "        return list()\n",
    "        \n",
    "    # For each path from w to the output node, remove from the dominator list\n",
    "    # inverses of w nodes that are not present in all paths\n",
    "    for path in nx.all_simple_paths(G, w, output_node):\n",
    "        inv_dom &= set(path)\n",
    "    \n",
    "    # Returns the list of inverse dominators of w4\n",
    "    return list(inv_dom)\n",
    "\n",
    "def rule_3(G, x, y):\n",
    "    # Get the set of nodes that have an edge from x (except y)\n",
    "    neighbors = set(G.successors(x)) - {y}\n",
    "\n",
    "    # Check if OUT(x) >= 2\n",
    "    if G.out_degree(x) < 2:\n",
    "        return False\n",
    "\n",
    "    # Check if x is a inverse dominator of all w in neighbors\n",
    "    for w in neighbors:\n",
    "        # Get the set of inverse dominators of w\n",
    "        inv_dom_w = set(get_idominators(G, w))\n",
    "\n",
    "        # Check if x is in the set of inverse dominators of w\n",
    "        if x not in inv_dom_w:\n",
    "            return False\n",
    "\n",
    "    return True\n",
    "\n",
    "def mark_inheritor_rule_3(G, x, y):\n",
    "    # Check if (x, y) satisfies rule 3\n",
    "    if rule_3(G, x, y):\n",
    "        # Check if there is at least one incoming arc without the inheritor mark\n",
    "        has_unmarked_incoming_arc = any(not G.edges(data=False)[incoming_arc]['inheritor'] for incoming_arc in G.in_edges(x))\n",
    "        \n",
    "        # Check if there is at least one outgoing arc without the inheritor mark, except (x, y)\n",
    "        outgoing_arcs = set(G.out_edges(x)) - {(x, y)}\n",
    "        paths_from_outgoing_arcs_to_x = []\n",
    "        for outgoing_arc in outgoing_arcs:\n",
    "            paths_from_outgoing_arcs_to_x.extend(nx.all_simple_paths(G, outgoing_arc[1], x))\n",
    "        has_unmarked_outgoing_arc = any(\n",
    "            not G.edges(data=False)[outgoing_arc]['inheritor'] for outgoing_arc in G.out_edges(paths_from_outgoing_arcs_to_x))\n",
    "        \n",
    "        # If there is at least one unmarked incoming or outgoing arc, mark (x, y) as inheritor\n",
    "        if has_unmarked_incoming_arc or has_unmarked_outgoing_arc:\n",
    "            G.edges(data=False)[x, y]['inheritor'] = True\n",
    "    return G\n",
    "\n",
    "def apply_rule_3(G):\n",
    "    for (x, y) in G.edges(data=False):\n",
    "        G = mark_inheritor_rule_3(G, x, y)\n",
    "        \n",
    "    return G"
   ]
  },
  {
   "cell_type": "code",
   "execution_count": 25,
   "metadata": {},
   "outputs": [],
   "source": [
    "G = nx.MultiDiGraph(nx.drawing.nx_pydot.read_dot('./dots/Cal_jan2.dot'))"
   ]
  },
  {
   "cell_type": "code",
   "execution_count": 26,
   "metadata": {},
   "outputs": [
    {
     "name": "stdout",
     "output_type": "stream",
     "text": [
      "não entrou\n",
      "não entrou\n",
      "não entrou\n",
      "não entrou\n",
      "não entrou\n",
      "não entrou\n",
      "não entrou\n",
      "não entrou\n",
      "não entrou\n",
      "não entrou\n",
      "não entrou\n",
      "não entrou\n"
     ]
    }
   ],
   "source": [
    "G = apply_rule_3(G)"
   ]
  },
  {
   "cell_type": "code",
   "execution_count": 23,
   "metadata": {},
   "outputs": [
    {
     "name": "stdout",
     "output_type": "stream",
     "text": [
      "None\n",
      "None\n",
      "None\n",
      "None\n",
      "None\n",
      "None\n",
      "None\n",
      "None\n",
      "None\n",
      "None\n",
      "None\n",
      "None\n"
     ]
    }
   ],
   "source": [
    "for u, v, attrs in G.edges(data=True):\n",
    "    if 'inheritor' in attrs:\n",
    "        print(attrs['inheritor'])\n",
    "    else:\n",
    "        print(None)"
   ]
  },
  {
   "cell_type": "code",
   "execution_count": null,
   "metadata": {},
   "outputs": [],
   "source": [
    "G_copy = G.copy()"
   ]
  },
  {
   "cell_type": "code",
   "execution_count": null,
   "metadata": {},
   "outputs": [],
   "source": [
    "G_copy = apply_rule_3(G_copy)"
   ]
  },
  {
   "cell_type": "code",
   "execution_count": null,
   "metadata": {},
   "outputs": [],
   "source": [
    "G = nx.MultiDiGraph(nx.drawing.nx_pydot.read_dot('./dots/Cal_jan2.dot'))\n",
    "\n",
    "for edge in G.edges(data=False):\n",
    "    print(edge)"
   ]
  },
  {
   "cell_type": "code",
   "execution_count": null,
   "metadata": {},
   "outputs": [],
   "source": [
    "nx.draw(G)"
   ]
  },
  {
   "cell_type": "code",
   "execution_count": null,
   "metadata": {},
   "outputs": [],
   "source": []
  }
 ],
 "metadata": {
  "kernelspec": {
   "display_name": "Python 3 (ipykernel)",
   "language": "python",
   "name": "python3"
  },
  "language_info": {
   "codemirror_mode": {
    "name": "ipython",
    "version": 2
   },
   "file_extension": ".py",
   "mimetype": "text/x-python",
   "name": "python",
   "nbconvert_exporter": "python",
   "pygments_lexer": "ipython2",
   "version": "2.7.18"
  }
 },
 "nbformat": 4,
 "nbformat_minor": 2
}
